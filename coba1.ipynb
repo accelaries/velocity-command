{
 "cells": [
  {
   "cell_type": "code",
   "execution_count": 3,
   "id": "5b6be097",
   "metadata": {},
   "outputs": [
    {
     "name": "stdout",
     "output_type": "stream",
     "text": [
      "Menyala 1\n",
      "Menyala 2\n",
      "Menyala 3\n",
      "Menyala 4\n",
      "Menyala 5\n",
      "Menyala 6\n",
      "Menyala 7\n",
      "Menyala 8\n",
      "Menyala 9\n",
      "Menyala 10\n"
     ]
    }
   ],
   "source": [
    "for i in range(10):\n",
    "    print(\"Menyala\", i+1)"
   ]
  }
 ],
 "metadata": {
  "kernelspec": {
   "display_name": "Python 3",
   "language": "python",
   "name": "python3"
  },
  "language_info": {
   "codemirror_mode": {
    "name": "ipython",
    "version": 3
   },
   "file_extension": ".py",
   "mimetype": "text/x-python",
   "name": "python",
   "nbconvert_exporter": "python",
   "pygments_lexer": "ipython3",
   "version": "3.10.5"
  }
 },
 "nbformat": 4,
 "nbformat_minor": 5
}
